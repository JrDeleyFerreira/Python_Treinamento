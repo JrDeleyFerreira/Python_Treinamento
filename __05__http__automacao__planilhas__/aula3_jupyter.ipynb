{
 "cells": [
  {
   "cell_type": "markdown",
   "metadata": {},
   "source": [
    "### Esse é o poder do Jupyter Notebook\n",
    "- Aqui podemos apenas ver como ficam as coisas em Markdowm."
   ]
  },
  {
   "cell_type": "code",
   "execution_count": 2,
   "metadata": {},
   "outputs": [
    {
     "name": "stdout",
     "output_type": "stream",
     "text": [
      "Vendo como as coisas funcionam com Jupyter!\n",
      "Meu sistema operacional é: win32\n"
     ]
    }
   ],
   "source": [
    "import sys\n",
    "print('Vendo como as coisas funcionam com Jupyter!')\n",
    "print(f'Meu sistema operacional é: {sys.platform}')"
   ]
  }
 ],
 "metadata": {
  "kernelspec": {
   "display_name": "venv",
   "language": "python",
   "name": "python3"
  },
  "language_info": {
   "codemirror_mode": {
    "name": "ipython",
    "version": 3
   },
   "file_extension": ".py",
   "mimetype": "text/x-python",
   "name": "python",
   "nbconvert_exporter": "python",
   "pygments_lexer": "ipython3",
   "version": "3.12.4"
  }
 },
 "nbformat": 4,
 "nbformat_minor": 2
}
